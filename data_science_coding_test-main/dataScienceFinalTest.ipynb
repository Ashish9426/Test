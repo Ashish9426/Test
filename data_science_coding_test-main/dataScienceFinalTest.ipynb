{
 "cells": [
  {
   "cell_type": "markdown",
   "id": "consecutive-wagner",
   "metadata": {},
   "source": [
    "# 1. Convert the image into a gray-scale format"
   ]
  },
  {
   "cell_type": "code",
   "execution_count": null,
   "id": "official-million",
   "metadata": {},
   "outputs": [],
   "source": [
    "# original picture\n",
    "import cv2\n",
    "\n",
    "img1 = cv2.imread('apple_1.png', 1)\n",
    "img2 = cv2.imread('apple_2.png', 1)\n",
    "\n",
    "cv2.imshow('apple_1', img1)\n",
    "cv2.imshow('apple_2', img2)\n",
    "cv2.waitKey(0)\n",
    "cv2.destroyAllWindows()"
   ]
  },
  {
   "cell_type": "code",
   "execution_count": null,
   "id": "happy-pasta",
   "metadata": {},
   "outputs": [],
   "source": [
    "# gray image\n",
    "import cv2\n",
    "img1 = cv2.imread('apple_1.png')\n",
    "img2 = cv2.imread('apple_2.png')\n",
    "\n",
    "gray_img1 = cv2.cvtColor(img1, cv2.COLOR_BGR2GRAY)\n",
    "gray_img2 = cv2.cvtColor(img2, cv2.COLOR_BGR2GRAY)\n",
    "\n",
    "# print(img)\n",
    "cv2.imshow('gray_apple_1', gray_img1)\n",
    "cv2.imshow('gray_apple_2', gray_img2)\n",
    "\n",
    "cv2.waitKey(0)\n",
    "cv2.destroyAllWindows()"
   ]
  },
  {
   "cell_type": "code",
   "execution_count": null,
   "id": "competitive-shopper",
   "metadata": {},
   "outputs": [],
   "source": []
  },
  {
   "cell_type": "markdown",
   "id": "independent-december",
   "metadata": {},
   "source": [
    "# 2. Define the outermost edge of the Apple"
   ]
  },
  {
   "cell_type": "code",
   "execution_count": null,
   "id": "second-series",
   "metadata": {},
   "outputs": [],
   "source": [
    "import cv2\n",
    "\n",
    "img1 = cv2.imread('apple_1.png')\n",
    "\n",
    "# get the binary image\n",
    "img1_binary = cv2.Canny(img1, 255, 255)\n",
    "\n",
    "# find the contours\n",
    "contours, hierarchy = cv2.findContours(img1_binary, cv2.RETR_EXTERNAL, cv2.CHAIN_APPROX_SIMPLE)\n",
    "\n",
    "# get all the contour\n",
    "# print(contours)\n",
    "for contour in contours:\n",
    "    area1 = cv2.contourArea(contour)\n",
    "    if area1>200:\n",
    "        print('Area_1 : ', area1)\n",
    "        cv2.drawContours(img1, [contour], -1, (0, 255, 0), 5)\n",
    "\n",
    "cv2.imshow('apple_1', img1)\n",
    "# cv2.imshow('binary1', img1_binary)\n",
    "\n",
    "\n",
    "cv2.waitKey(0)\n",
    "cv2.destroyAllWindows()"
   ]
  },
  {
   "cell_type": "code",
   "execution_count": null,
   "id": "beneficial-passing",
   "metadata": {},
   "outputs": [],
   "source": []
  },
  {
   "cell_type": "markdown",
   "id": "referenced-dating",
   "metadata": {},
   "source": [
    "# 3. Perform the same with the second image"
   ]
  },
  {
   "cell_type": "code",
   "execution_count": 12,
   "id": "alike-garage",
   "metadata": {},
   "outputs": [
    {
     "name": "stdout",
     "output_type": "stream",
     "text": [
      "Area_2 :  59930.5\n"
     ]
    }
   ],
   "source": [
    "import cv2\n",
    "\n",
    "img2 = cv2.imread('apple_2.png')\n",
    "\n",
    "# get the binary image\n",
    "img2_binary = cv2.Canny(img2, 255, 255)\n",
    "\n",
    "\n",
    "# find the contours\n",
    "contours2, hierarchy2 = cv2.findContours(img2_binary, cv2.RETR_EXTERNAL, cv2.CHAIN_APPROX_SIMPLE)\n",
    "\n",
    "# get all the contour\n",
    "# print(contours)\n",
    "for contour in contours2:\n",
    "    area2 = cv2.contourArea(contour)\n",
    "    if area2>500:\n",
    "        print('Area_2 : ', area2)\n",
    "        cv2.drawContours(img2, [contour], -1, (0, 255, 0), 2)\n",
    "\n",
    "cv2.imshow('apple_2', img2)\n",
    "# cv2.imshow('binary2', img2_binary)\n",
    "\n",
    "cv2.waitKey(0)\n",
    "cv2.destroyAllWindows()"
   ]
  },
  {
   "cell_type": "code",
   "execution_count": null,
   "id": "encouraging-satisfaction",
   "metadata": {},
   "outputs": [],
   "source": []
  },
  {
   "cell_type": "markdown",
   "id": "endangered-latin",
   "metadata": {},
   "source": [
    "# 4. Find the ratio between the areas of the two edges"
   ]
  },
  {
   "cell_type": "code",
   "execution_count": null,
   "id": "adapted-desire",
   "metadata": {},
   "outputs": [],
   "source": [
    "ratio_between_Area = area1/area2"
   ]
  },
  {
   "cell_type": "code",
   "execution_count": null,
   "id": "induced-alexander",
   "metadata": {},
   "outputs": [],
   "source": [
    "print(f\"Ratio Between The Areas = {ratio_between_Area}\")"
   ]
  },
  {
   "cell_type": "code",
   "execution_count": null,
   "id": "equivalent-marsh",
   "metadata": {},
   "outputs": [],
   "source": []
  },
  {
   "cell_type": "markdown",
   "id": "assigned-enzyme",
   "metadata": {},
   "source": [
    "# 5. Within the edge of the first image, find the longest distance between the two points"
   ]
  },
  {
   "cell_type": "code",
   "execution_count": 8,
   "id": "critical-vietnam",
   "metadata": {},
   "outputs": [
    {
     "name": "stdout",
     "output_type": "stream",
     "text": [
      "1.4142135623730951\n"
     ]
    }
   ],
   "source": [
    "import cv2\n",
    "import math\n",
    "\n",
    "img = cv2.imread('apple_1.png')\n",
    "\n",
    "# get the binary image\n",
    "img_binary = cv2.Canny(img, 255, 255)\n",
    "\n",
    "# find the contours\n",
    "contours, hierarchy = cv2.findContours(img_binary, cv2.RETR_EXTERNAL, cv2.CHAIN_APPROX_SIMPLE)\n",
    "\n",
    "# get all the contour\n",
    "# print(contours)\n",
    "\n",
    "d1 = list()\n",
    "for contour in contours:\n",
    "    area1 = cv2.contourArea(contour)\n",
    "    if area1>200:\n",
    "        for i in contour:\n",
    "            for j in i:\n",
    "                x=i[0][0]\n",
    "                y=i[0][1]\n",
    "                dist1 =math.sqrt(((x+1)-x)**2 + ((y+1)-y)**2)\n",
    "                d.append(dist1)\n",
    "\n",
    "print(max(d1))\n",
    "cv2.imshow('apple_1', img)\n",
    "# cv2.imshow('binary', img_binary)\n",
    "\n",
    "cv2.waitKey(0)\n",
    "cv2.destroyAllWindows()"
   ]
  },
  {
   "cell_type": "code",
   "execution_count": null,
   "id": "crucial-south",
   "metadata": {},
   "outputs": [],
   "source": []
  },
  {
   "cell_type": "markdown",
   "id": "desperate-athens",
   "metadata": {},
   "source": [
    "# Perform the same with the second image."
   ]
  },
  {
   "cell_type": "code",
   "execution_count": 5,
   "id": "interested-nicaragua",
   "metadata": {},
   "outputs": [
    {
     "name": "stdout",
     "output_type": "stream",
     "text": [
      "1.4142135623730951\n"
     ]
    }
   ],
   "source": [
    "import cv2\n",
    "\n",
    "img2 = cv2.imread('apple_2.png')\n",
    "\n",
    "# get the binary image\n",
    "img2_binary = cv2.Canny(img2, 255, 255)\n",
    "\n",
    "\n",
    "# find the contours\n",
    "contours2, hierarchy2 = cv2.findContours(img2_binary, cv2.RETR_EXTERNAL, cv2.CHAIN_APPROX_SIMPLE)\n",
    "\n",
    "# get all the contour\n",
    "# print(contours)\n",
    "d2 = list()\n",
    "for contour in contours2:\n",
    "    area2 = cv2.contourArea(contour)\n",
    "    if area2>500:\n",
    "        for i in contour:\n",
    "            for j in i:\n",
    "                x=i[0][0]\n",
    "                y=i[0][1]\n",
    "                dist2 =math.sqrt(((x+1)-x)**2 + ((y+1)-y)**2)\n",
    "                d2.append(dist2)\n",
    "\n",
    "print(max(d2))\n",
    "cv2.imshow('apple_2', img2)\n",
    "# cv2.imshow('binary2', img2_binary)\n",
    "\n",
    "cv2.waitKey(0)\n",
    "cv2.destroyAllWindows()"
   ]
  },
  {
   "cell_type": "code",
   "execution_count": null,
   "id": "about-amsterdam",
   "metadata": {},
   "outputs": [],
   "source": []
  },
  {
   "cell_type": "markdown",
   "id": "complex-hammer",
   "metadata": {},
   "source": [
    "# Find the ratio between the two distances"
   ]
  },
  {
   "cell_type": "code",
   "execution_count": 11,
   "id": "flush-board",
   "metadata": {},
   "outputs": [
    {
     "ename": "ValueError",
     "evalue": "max() arg is an empty sequence",
     "output_type": "error",
     "traceback": [
      "\u001b[1;31m--------------------------------------------------------------------------\u001b[0m",
      "\u001b[1;31mValueError\u001b[0m                               Traceback (most recent call last)",
      "\u001b[1;32m<ipython-input-11-f2948a5a7067>\u001b[0m in \u001b[0;36m<module>\u001b[1;34m\u001b[0m\n\u001b[1;32m----> 1\u001b[1;33m \u001b[0mprint\u001b[0m\u001b[1;33m(\u001b[0m\u001b[1;34mf\"Ratio between the two Distance : {max(d1)/max(d2)}\"\u001b[0m\u001b[1;33m)\u001b[0m\u001b[1;33m\u001b[0m\u001b[1;33m\u001b[0m\u001b[0m\n\u001b[0m",
      "\u001b[1;31mValueError\u001b[0m: max() arg is an empty sequence"
     ]
    }
   ],
   "source": [
    "print(f\"Ratio between the two Distance : {max(d1)/max(d2)}\")"
   ]
  },
  {
   "cell_type": "code",
   "execution_count": null,
   "id": "iraqi-cancellation",
   "metadata": {},
   "outputs": [],
   "source": []
  }
 ],
 "metadata": {
  "kernelspec": {
   "display_name": "Python 3",
   "language": "python",
   "name": "python3"
  },
  "language_info": {
   "codemirror_mode": {
    "name": "ipython",
    "version": 3
   },
   "file_extension": ".py",
   "mimetype": "text/x-python",
   "name": "python",
   "nbconvert_exporter": "python",
   "pygments_lexer": "ipython3",
   "version": "3.7.9"
  }
 },
 "nbformat": 4,
 "nbformat_minor": 5
}
