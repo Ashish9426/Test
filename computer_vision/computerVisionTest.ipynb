{
 "cells": [
  {
   "cell_type": "markdown",
   "id": "unable-cambodia",
   "metadata": {},
   "source": [
    "# 1. Transform the image in the +x direction by 25%, and create an image"
   ]
  },
  {
   "cell_type": "code",
   "execution_count": 14,
   "id": "changing-likelihood",
   "metadata": {},
   "outputs": [],
   "source": [
    "import cv2\n",
    "import numpy as np\n",
    "\n",
    "img= cv2.imread('images.jpg')\n",
    "rows,cols, ch=img.shape\n",
    "\n",
    "M= np.float32([[1,0,25],\n",
    "               [0,1,0]])\n",
    "\n",
    "dst=cv2.warpAffine(img,M,(cols,rows))\n",
    "\n",
    "cv2.imshow('original', img)\n",
    "cv2.imshow('img',dst)\n",
    "\n",
    "cv2.imwrite('25% Translated +x axis.jpg', dst)\n",
    "\n",
    "cv2.waitKey(0)\n",
    "cv2.destroyAllWindows()"
   ]
  },
  {
   "cell_type": "code",
   "execution_count": null,
   "id": "prepared-selection",
   "metadata": {},
   "outputs": [],
   "source": []
  },
  {
   "cell_type": "markdown",
   "id": "bacterial-project",
   "metadata": {},
   "source": [
    "# 2. Transform the image in the +y direction by 25%, and create an image"
   ]
  },
  {
   "cell_type": "code",
   "execution_count": 17,
   "id": "early-cooking",
   "metadata": {},
   "outputs": [],
   "source": [
    "import cv2\n",
    "import numpy as np\n",
    "\n",
    "img= cv2.imread('images.jpg')\n",
    "rows,cols, ch=img.shape\n",
    "\n",
    "M= np.float32([[1,0,0],\n",
    "               [0,1,25]])\n",
    "\n",
    "dst=cv2.warpAffine(img,M,(cols,rows))\n",
    "\n",
    "cv2.imshow('original', img)\n",
    "cv2.imshow('img',dst)\n",
    "\n",
    "cv2.imwrite('25% Translated +y axis.jpg', dst)\n",
    "\n",
    "cv2.waitKey(0)\n",
    "cv2.destroyAllWindows()"
   ]
  },
  {
   "cell_type": "code",
   "execution_count": null,
   "id": "random-awareness",
   "metadata": {},
   "outputs": [],
   "source": []
  },
  {
   "cell_type": "markdown",
   "id": "gross-newfoundland",
   "metadata": {},
   "source": [
    "# 3. Rotate the image in Z by 90 degree"
   ]
  },
  {
   "cell_type": "code",
   "execution_count": 21,
   "id": "indian-sensitivity",
   "metadata": {},
   "outputs": [],
   "source": [
    "#for rotation \n",
    "import cv2\n",
    "img= cv2.imread('images.jpg')\n",
    "rows,cols,ch=img.shape\n",
    "\n",
    "center = (rows// 2, cols // 2)\n",
    "\n",
    "M= cv2.getRotationMatrix2D(center,90,1)\n",
    "\n",
    "img_rotated=cv2.warpAffine(img,M,(cols,rows))\n",
    "\n",
    "cv2.imshow('original', img)\n",
    "cv2.imshow('img',img_rotated)\n",
    "\n",
    "cv2.imwrite('90 degree rotation.jpg', img_rotated)\n",
    "cv2.waitKey(0)\n",
    "cv2.destroyAllWindows()"
   ]
  },
  {
   "cell_type": "code",
   "execution_count": null,
   "id": "manual-florence",
   "metadata": {},
   "outputs": [],
   "source": []
  },
  {
   "cell_type": "markdown",
   "id": "polished-jonathan",
   "metadata": {},
   "source": [
    "# 4. Rotate the image in Z by -90 degree"
   ]
  },
  {
   "cell_type": "code",
   "execution_count": 22,
   "id": "intended-glenn",
   "metadata": {},
   "outputs": [],
   "source": [
    "#for rotation \n",
    "import cv2\n",
    "img= cv2.imread('images.jpg')\n",
    "rows,cols,ch=img.shape\n",
    "\n",
    "center = (rows// 2, cols // 2)\n",
    "\n",
    "M= cv2.getRotationMatrix2D(center,-90,1)\n",
    "\n",
    "img_rotated=cv2.warpAffine(img,M,(cols,rows))\n",
    "\n",
    "cv2.imshow('original', img)\n",
    "cv2.imshow('img',img_rotated)\n",
    "\n",
    "cv2.imwrite('-90 degree rotation.jpg', img_rotated)\n",
    "cv2.waitKey(0)\n",
    "cv2.destroyAllWindows()"
   ]
  },
  {
   "cell_type": "code",
   "execution_count": null,
   "id": "unique-harassment",
   "metadata": {},
   "outputs": [],
   "source": []
  },
  {
   "cell_type": "markdown",
   "id": "liquid-sense",
   "metadata": {},
   "source": [
    "# 5. From the center of the image, in all directions, increase the RGB values of the pixels in a manner that, each pixel from the center, the percentage drops by 1%. i.e. the center pixel's RGB will increase by 50%, and the next pixels in x and y directions will be 49%. This goes on and on until the increase becomes 0 %."
   ]
  },
  {
   "cell_type": "code",
   "execution_count": 1,
   "id": "worst-hybrid",
   "metadata": {},
   "outputs": [],
   "source": [
    "import cv2\n",
    "import numpy as np\n",
    "\n",
    "img = cv2.imread('images.jpg')\n",
    "\n",
    "rows,cols,ch=img.shape\n",
    "center = (rows// 2, cols // 2)\n",
    "\n",
    "# separate the channels\n",
    "(b, g, r) = cv2.split(img) \n",
    "\n",
    "# merge the channels\n",
    "img_red = cv2.merge([b, g, r + 100])\n",
    "img_green = cv2.merge([b, g + 100, r])\n",
    "img_blue = cv2.merge([b + 100, g, r])\n",
    "\n",
    "cv2.imshow('original', img)\n",
    "cv2.imshow('image-red', img_red)\n",
    "cv2.imshow('image-green', img_green)\n",
    "cv2.imshow('image-blue', img_blue)\n",
    "\n",
    "# wait for user to press any key\n",
    "cv2.waitKey(0)\n",
    "cv2.destroyAllWindows()"
   ]
  },
  {
   "cell_type": "code",
   "execution_count": null,
   "id": "sixth-constitution",
   "metadata": {},
   "outputs": [],
   "source": []
  },
  {
   "cell_type": "code",
   "execution_count": null,
   "id": "precious-marine",
   "metadata": {},
   "outputs": [],
   "source": [
    "import cv2\n",
    "import numpy as np\n",
    "\n",
    "img = cv2.imread('images.jpg')\n",
    "\n",
    "rows,cols,ch=img.shape\n",
    "center = (rows// 2, cols // 2)\n",
    "\n",
    "(b, g, r) = image[rows// 2, cols // 2]"
   ]
  },
  {
   "cell_type": "code",
   "execution_count": null,
   "id": "dried-stevens",
   "metadata": {},
   "outputs": [],
   "source": []
  },
  {
   "cell_type": "code",
   "execution_count": null,
   "id": "early-printer",
   "metadata": {},
   "outputs": [],
   "source": []
  }
 ],
 "metadata": {
  "kernelspec": {
   "display_name": "Python 3",
   "language": "python",
   "name": "python3"
  },
  "language_info": {
   "codemirror_mode": {
    "name": "ipython",
    "version": 3
   },
   "file_extension": ".py",
   "mimetype": "text/x-python",
   "name": "python",
   "nbconvert_exporter": "python",
   "pygments_lexer": "ipython3",
   "version": "3.7.9"
  }
 },
 "nbformat": 4,
 "nbformat_minor": 5
}
